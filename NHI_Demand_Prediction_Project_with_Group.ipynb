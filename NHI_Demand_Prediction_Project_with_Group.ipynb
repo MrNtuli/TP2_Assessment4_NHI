{
 "cells": [
  {
   "cell_type": "markdown",
   "id": "group-info",
   "metadata": {},
   "source": [
    "# National Health Insurance (NHI) – Predicting Healthcare Service Demand (South Africa)\n",
    "\n",
    "**Technical Programming 2 – Assessment 4**  \n",
    "**Submission Date:** 26 August 2025  \n",
    "\n",
    "---\n",
    "\n",
    "## Group & Admin Cell (Alphabetical by Surname)\n",
    "\n",
    "- Ncobeni, N.A – 22412310  \n",
    "- Nikwe, T – 22309434  \n",
    "- Ngeleka, S.K – 22221194  \n",
    "- Mathonsi, S.S – 22339617  \n",
    "- Mazibuko, S.R – 22000786  \n",
    "- Sigwaza, S.N – 22460979  \n",
    "- Zungula, E – 22339408  \n",
    "\n",
    "---\n",
    "\n",
    "## Task Choice\n",
    "We selected **TASK ONE: Predicting Healthcare Service Demand**.  \n",
    "\n",
    "### Why this task?\n",
    "- Aligns directly with NHI rollout needs: anticipating demand to allocate funding and capacity.  \n",
    "- South African public microdata with health modules and demographics are publicly available (e.g., **GHS 2024**).  \n",
    "- Natural, supervised-learning framing with clear targets (e.g., probability of clinic/hospital visit).  \n"
   ]
  },
  {
   "cell_type": "markdown",
   "id": "dataset-sources",
   "metadata": {},
   "source": [
    "## Dataset Sources (Credibility & Validity)\n",
    "\n",
    "For this project we used **open, credible, multi-relational datasets** from official sources:\n",
    "\n",
    "1. **General Household Survey 2024 (Stats SA)**  \n",
    "   - Repository: World Bank Microdata Library (Released 8 July 2025)  \n",
    "   - Link: [https://microdata.worldbank.org/index.php/catalog/6792](https://microdata.worldbank.org/index.php/catalog/6792)\n",
    "\n",
    "2. **General Household Survey Overview (Stats SA)**  \n",
    "   - Link: [https://www.statssa.gov.za/?page_id=16405](https://www.statssa.gov.za/?page_id=16405)\n",
    "\n",
    "3. **South Africa Health Facility Master List (Nature Scientific Data)**  \n",
    "   - Maina et al., 2019. “A spatial database of health facilities …”  \n",
    "   - Link: [https://www.nature.com/articles/s41597-019-0142-2](https://www.nature.com/articles/s41597-019-0142-2)\n"
   ]
  },
  {
   "cell_type": "markdown",
   "id": "analysis-placeholder",
   "metadata": {},
   "source": [
    "---\n",
    "\n",
    "## Project Analysis (Start Here)\n",
    "Use the following sections for your dataset loading, cleaning, visualization, machine learning, and evaluation.  \n",
    "All code cells and outputs should follow after this point.\n"
   ]
  }
 ],
 "metadata": {
  "kernelspec": {
   "display_name": "Python 3",
   "language": "python",
   "name": "python3"
  },
  "language_info": {
   "name": "python",
   "version": "3.10"
  }
 },
 "nbformat": 4,
 "nbformat_minor": 5
}
