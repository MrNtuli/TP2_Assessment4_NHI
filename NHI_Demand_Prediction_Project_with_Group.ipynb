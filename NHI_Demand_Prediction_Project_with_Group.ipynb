{
 "cells": [
  {
   "cell_type": "markdown",
   "id": "fadaba15",
   "metadata": {},
   "source": [
    "# National Health Insurance (NHI) – Predicting Healthcare Service Demand (South Africa)\n",
    "\n",
    "**Technical Programming 2 – Assessment 4**  \n",
    "**Submission Date:** 26 August 2025  \n",
    "\n",
    "---\n",
    "\n",
    "## Group & Admin Cell (Alphabetical by Surname)\n",
    "\n",
    "- Ncobeni, N.A – 22412310  \n",
    "- Nikwe, T – 22309434  \n",
    "- Ngeleka, S.K – 22221194  \n",
    "- Mathonsi, S.S – 22339617  \n",
    "- Mazibuko, S.R – 22000786  \n",
    "- Sigwaza, S.N – 22460979  \n",
    "- Zungula, E – 22339408  \n",
    "\n",
    "---\n",
    "\n",
    "## Task Choice\n",
    "We selected **TASK ONE: Predicting Healthcare Service Demand**.  \n",
    "\n",
    "### Why this task?\n",
    "- Aligns directly with NHI rollout needs: anticipating demand to allocate funding and capacity.\n",
    "- South African public microdata with health modules and demographics are publicly available (e.g., **GHS 2024**).\n",
    "- Natural, supervised-learning framing with clear targets (e.g., probability of clinic/hospital visit).\n"
   ]
  }
 ],
 "metadata": {},
 "nbformat": 4,
 "nbformat_minor": 5
}
## Dataset Sources (Credibility & Validity)

For this project we used **open, credible, multi-relational datasets** from official sources:

1. **General Household Survey 2024 (Stats SA)**  
   - Repository: World Bank Microdata Library (Released 8 July 2025)  
   - Link: [https://microdata.worldbank.org/index.php/catalog/6792](https://microdata.worldbank.org/index.php/catalog/6792)

2. **General Household Survey Overview (Stats SA)**  
   - Link: [https://www.statssa.gov.za/?page_id=16405](https://www.statssa.gov.za/?page_id=16405)

3. **South Africa Health Facility Master List (Nature Scientific Data)**  
   - Maina et al., 2019. “A spatial database of health facilities …”  
   - Link: [https://www.nature.com/articles/s41597-019-0142-2](https://www.nature.com/articles/s41597-019-0142-2)

